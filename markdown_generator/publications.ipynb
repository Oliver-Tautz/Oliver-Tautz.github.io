{
 "cells": [
  {
   "cell_type": "markdown",
   "metadata": {
    "deletable": true,
    "editable": true
   },
   "source": [
    "# Publications markdown generator for academicpages\n",
    "\n",
    "Takes a TSV of publications with metadata and converts them for use with [academicpages.github.io](academicpages.github.io). This is an interactive Jupyter notebook ([see more info here](http://jupyter-notebook-beginner-guide.readthedocs.io/en/latest/what_is_jupyter.html)). The core python code is also in `publications.py`. Run either from the `markdown_generator` folder after replacing `publications.tsv` with one containing your data.\n",
    "\n",
    "TODO: Make this work with BibTex and other databases of citations, rather than Stuart's non-standard TSV format and citation style.\n"
   ]
  },
  {
   "cell_type": "markdown",
   "metadata": {},
   "source": [
    "## Data format\n",
    "\n",
    "The TSV needs to have the following columns: pub_date, title, venue, excerpt, citation, site_url, and paper_url, with a header at the top. \n",
    "\n",
    "- `excerpt` and `paper_url` can be blank, but the others must have values. \n",
    "- `pub_date` must be formatted as YYYY-MM-DD.\n",
    "- `url_slug` will be the descriptive part of the .md file and the permalink URL for the page about the paper. The .md file will be `YYYY-MM-DD-[url_slug].md` and the permalink will be `https://[yourdomain]/publications/YYYY-MM-DD-[url_slug]`\n",
    "\n",
    "This is how the raw file looks (it doesn't look pretty, use a spreadsheet or other program to edit and create)."
   ]
  },
  {
   "cell_type": "code",
   "execution_count": 2,
   "metadata": {
    "collapsed": false,
    "jupyter": {
     "outputs_hidden": false
    }
   },
   "outputs": [
    {
     "name": "stdout",
     "output_type": "stream",
     "text": [
      "\u001f\u0000\u0000\u0000\u0000\u0000\u0000\u0003�Z�s�:\u0012������3�`C�ц74!\t�|\u001b��77\u001e",
      "a\u000b",
      "Ћ,��2������\u0003��8��ww/?��jw����je��ǈ�\u0019�\t\u0015���:�\n",
      "\"<\u0010!哓ʗ�y���[���\t�Z_�|\u0018\t�@�'- �T�JŭZm>�;\u0013�FD��\u0011rR��u'Ta%�}L�\u001a�a��zݭ���j\u0010LI���'\n",
      "�TB[�!^�\u0000+c۳K\u001d",
      ";�IXi�AȘyo7�����\n",
      "�?�\f",
      "���\u0004g\u0004��?5�s5�ɂ\u0002ɠ��\u0018�i@`�\u0001d\f",
      "WՈ(�夝:����\u0004Nhb,HZ*h���Hk��e��\u0004R06��c-�XU1�,%�a�K�2ر]��e�\u0017X\u0003�U4�ﰅ\u000b",
      "E4�Wx��)f��ǩ\u0012~ ��\u0011\n",
      "D�ӌ�mY�\u001e",
      "\u001f\u001f���5\f",
      "r�8��p�A�0�WHj���%��pW�4�IB�|!�n�^��f͎+(��J��*�_�)�9\u000fF\u0018�B\f",
      "N��^��֫�7t�-�m�\u001b�?֖�KncT �)[�-�u��Ђ[\u0018��\u0016��\tka�\u000b",
      "�)fAʌ\u0016(u<ŬO �����.�#Fz�Ȭ��z��\u0013\u0012�ԁ/'\f",
      "\u0005�'��Qw�>C�d\u0002�>\u000e��I�ˆgtB\u0015��7V*�`J���x�xH\u001e",
      "W�\"�@�^�@��?��a_�ax���8���tĨ������\u0005u.���͵�J\u0017D�o�\u0002}�����؅e.\t�L�I��=,��\u0014�Dg4�\u0019^�\u000b",
      "\u0019�W\u0013��K\u001a��D�|p!i�\u000f`C�\u0004�D�\u0014��\n",
      "%�x�*H\n",
      "���B�\u001fH\u0015#�4��\u001f�P\u001f�������O�d-\u0000ƥ=>\u0006��\u000e\u001bO9��l�\u0006%bt'@TC�\u0003��I2��) 5�l���R\"*%��X�\u0002��/��N�2\u0002S��e$�\u0002���$��Pp�-2P�\tR�\u0018\n",
      "lLd\u0000�\u001c",
      "O�Lzz�\u0015�V���YX��B��\"��W\f",
      "\u0013(\f",
      "�ϒ\u0019�>\u001d",
      "������\u0005#��̑��\\K����\u0012C\f",
      "��V:M~�\u0004�i�,B�\u0004�~��L�p^MrKtu���n�~�tػ��R�!)$Ŀ\u001d",
      "�j\n",
      "@ŷ�ٓ\u000ek�s��&��`1{4�O&�ׁˢTp\"�3�\f",
      "��\u001057�pI�GCmT6\u0012��B�\u001d",
      "F'�\u001a~ٹ�]��\u0017ݛn�s\u0005���ܽ��t;\u001c",
      "�^W�W��!yTf��\u00146�0\u0014�Ԏ�Beݖ�\u00040�'ݪp�\u0001��\u0007\u0012��\u001d",
      "�\u0005 \u001b*�\u001c",
      "dyj�O8���\u001c",
      "�Z�?Pr��*_;�\u001c",
      "8𤲀�j\u0014U�pm�9� �l�r�~�l\u000b",
      "Ӄ{*���\u0017�P���Z\u000eW�\u00072�<O'SK\t$��\u000e�\u0003̳\u000b",
      "�ֻ��Z��bI\\\t_��6�\u0002��\u000b",
      "�2��u��+���ph���Il�g�v-���������zC��v茌q�Ԁ� w�S:8tV�sɨ�>�\u0011�\u001e",
      "�\u000e��1��2Ԣ�ɧ\"՞w��'�^hme}��X��X\u0017��u��u�c��/��\u0015��G���t��4����\n",
      "eG\u0006��[\\0�z���ȶ�\n",
      ">�ӄ\u0006h\u0000�\u001a�\u0018�]��泠�;����O_׌6�����0��\f",
      "̍]���\t̍2`.\u0013�׀��#�������y�풔�g��f(�26�°�O�\u001c",
      "v�>�\u000fd$\u001e",
      "\u0000\u000eɈ\u00061\\O\u0012gB�4\u001d",
      "9T��\u0014N��Y�u�p��Z�K����J��\t�e\u0014�\u000e��K�쭁��\u001a0{e���\u0006foW0{;��+\u0003�2A{\n",
      "4�\u001d",
      "��\u0006\u0014&4\u001b�˦���q�2\u001fa\u001e",
      "�,\u00173;.a�f\u0006�8$\f",
      "�΃=4\"\u000b",
      ":\u0015얠��#��\u0004�@x�)ӟ��P,IU���$̽\u0016��0\u0014`�F\u0004�\u0010�\n",
      "&�+uF�R�`��\u0018�4�\u0002%ֳI�Y4�\"��\u0007$KD\u001fA��\u0006S�9a\u000e��T�$�\u000b",
      "-����`J��n�f���\u0006S��V��2�,���#��\u0003R\u0002�\u001d",
      "\u0018wj\u0013%I����y\u0000�l� �\u0018��`�H�b\u0017H���w-E�b\\�Q\u0015�ǰS\u001c",
      "LI\u0002:�\u0002��\u001a�\u0019��P�\"i��ʬg|��YC��pk�{�\"\u001a\u0011\u0007}5���\u00104p��;W3�\u0005�mD��\f",
      "��b�\\]�V]���M k�<��k�\u001f�\u0012�#Ik)\u0007G�Tg��V�.C\u001d",
      "з��:{h�S�c\u000f��c��\u0013{�\u0012��\t�\u0014P�1E҃�\u001a�<\u0011\u001d",
      "H�\u0016��\u0013&&\u0014�A��=X��(\u000e��J��\u0003��B#�3\f",
      "O�T\u0004\f",
      "�\u0003\u0003H��Q�9������\u0000ؠ\u0013�\u0013�4@\u0012\u0004`Zy�l\u0004OE\u0014�<Ӆ�$�r\u0001\u0016/��L0t�<t�@h�h'�Nq��,`���7\u000fuǭ�\u000fkǇG�F��p���F�����\u0012q�r�Ա/�a���M��Ό�P�k�뺎ۄ\u001b��S��Rx\u000b",
      "��q^�>Ň\"��):�/+\f",
      "�`3\u0000̵�6�\u0012��ϔ�||�\u001f��@���o\u0012̷/\u0018~C&�\\8�I`��wR%�糥���Q߾�\"\\\u0006�Q��|'Z��@�\u0003I�3�/�3Hhd_��p�G�\u0002˽��N�Ϳ\u0001֝\u001f�,'\u0000\u0000"
     ]
    }
   ],
   "source": [
    "!cat publications.tsv"
   ]
  },
  {
   "cell_type": "markdown",
   "metadata": {},
   "source": [
    "## Import pandas\n",
    "\n",
    "We are using the very handy pandas library for dataframes."
   ]
  },
  {
   "cell_type": "code",
   "execution_count": 2,
   "metadata": {
    "collapsed": true,
    "deletable": true,
    "editable": true,
    "jupyter": {
     "outputs_hidden": true
    }
   },
   "outputs": [],
   "source": [
    "import pandas as pd"
   ]
  },
  {
   "cell_type": "markdown",
   "metadata": {},
   "source": [
    "## Import TSV\n",
    "\n",
    "Pandas makes this easy with the read_csv function. We are using a TSV, so we specify the separator as a tab, or `\\t`.\n",
    "\n",
    "I found it important to put this data in a tab-separated values format, because there are a lot of commas in this kind of data and comma-separated values can get messed up. However, you can modify the import statement, as pandas also has read_excel(), read_json(), and others."
   ]
  },
  {
   "cell_type": "code",
   "execution_count": 3,
   "metadata": {
    "collapsed": false,
    "deletable": true,
    "editable": true,
    "jupyter": {
     "outputs_hidden": false
    }
   },
   "outputs": [
    {
     "data": {
      "text/html": [
       "<div>\n",
       "<table border=\"1\" class=\"dataframe\">\n",
       "  <thead>\n",
       "    <tr style=\"text-align: right;\">\n",
       "      <th></th>\n",
       "      <th>pub_date</th>\n",
       "      <th>title</th>\n",
       "      <th>venue</th>\n",
       "      <th>excerpt</th>\n",
       "      <th>citation</th>\n",
       "      <th>url_slug</th>\n",
       "      <th>paper_url</th>\n",
       "    </tr>\n",
       "  </thead>\n",
       "  <tbody>\n",
       "    <tr>\n",
       "      <th>0</th>\n",
       "      <td>2009-10-01</td>\n",
       "      <td>Paper Title Number 1</td>\n",
       "      <td>Journal 1</td>\n",
       "      <td>This paper is about the number 1. The number 2...</td>\n",
       "      <td>Your Name, You. (2009). \"Paper Title Number 1....</td>\n",
       "      <td>paper-title-number-1</td>\n",
       "      <td>http://academicpages.github.io/files/paper1.pdf</td>\n",
       "    </tr>\n",
       "    <tr>\n",
       "      <th>1</th>\n",
       "      <td>2010-10-01</td>\n",
       "      <td>Paper Title Number 2</td>\n",
       "      <td>Journal 1</td>\n",
       "      <td>This paper is about the number 2. The number 3...</td>\n",
       "      <td>Your Name, You. (2010). \"Paper Title Number 2....</td>\n",
       "      <td>paper-title-number-2</td>\n",
       "      <td>http://academicpages.github.io/files/paper2.pdf</td>\n",
       "    </tr>\n",
       "    <tr>\n",
       "      <th>2</th>\n",
       "      <td>2015-10-01</td>\n",
       "      <td>Paper Title Number 3</td>\n",
       "      <td>Journal 1</td>\n",
       "      <td>This paper is about the number 3. The number 4...</td>\n",
       "      <td>Your Name, You. (2015). \"Paper Title Number 3....</td>\n",
       "      <td>paper-title-number-3</td>\n",
       "      <td>http://academicpages.github.io/files/paper3.pdf</td>\n",
       "    </tr>\n",
       "  </tbody>\n",
       "</table>\n",
       "</div>"
      ],
      "text/plain": [
       "     pub_date                 title      venue  \\\n",
       "0  2009-10-01  Paper Title Number 1  Journal 1   \n",
       "1  2010-10-01  Paper Title Number 2  Journal 1   \n",
       "2  2015-10-01  Paper Title Number 3  Journal 1   \n",
       "\n",
       "                                             excerpt  \\\n",
       "0  This paper is about the number 1. The number 2...   \n",
       "1  This paper is about the number 2. The number 3...   \n",
       "2  This paper is about the number 3. The number 4...   \n",
       "\n",
       "                                            citation              url_slug  \\\n",
       "0  Your Name, You. (2009). \"Paper Title Number 1....  paper-title-number-1   \n",
       "1  Your Name, You. (2010). \"Paper Title Number 2....  paper-title-number-2   \n",
       "2  Your Name, You. (2015). \"Paper Title Number 3....  paper-title-number-3   \n",
       "\n",
       "                                         paper_url  \n",
       "0  http://academicpages.github.io/files/paper1.pdf  \n",
       "1  http://academicpages.github.io/files/paper2.pdf  \n",
       "2  http://academicpages.github.io/files/paper3.pdf  "
      ]
     },
     "execution_count": 3,
     "metadata": {},
     "output_type": "execute_result"
    }
   ],
   "source": [
    "publications = pd.read_csv(\"publications.tsv\", sep=\"\\t\", header=0)\n",
    "publications\n"
   ]
  },
  {
   "cell_type": "markdown",
   "metadata": {},
   "source": [
    "## Escape special characters\n",
    "\n",
    "YAML is very picky about how it takes a valid string, so we are replacing single and double quotes (and ampersands) with their HTML encoded equivilents. This makes them look not so readable in raw format, but they are parsed and rendered nicely."
   ]
  },
  {
   "cell_type": "code",
   "execution_count": 4,
   "metadata": {
    "collapsed": true,
    "deletable": true,
    "editable": true,
    "jupyter": {
     "outputs_hidden": true
    }
   },
   "outputs": [],
   "source": [
    "html_escape_table = {\n",
    "    \"&\": \"&amp;\",\n",
    "    '\"': \"&quot;\",\n",
    "    \"'\": \"&apos;\"\n",
    "    }\n",
    "\n",
    "def html_escape(text):\n",
    "    \"\"\"Produce entities within text.\"\"\"\n",
    "    return \"\".join(html_escape_table.get(c,c) for c in text)"
   ]
  },
  {
   "cell_type": "markdown",
   "metadata": {},
   "source": [
    "## Creating the markdown files\n",
    "\n",
    "This is where the heavy lifting is done. This loops through all the rows in the TSV dataframe, then starts to concatentate a big string (```md```) that contains the markdown for each type. It does the YAML metadata first, then does the description for the individual page."
   ]
  },
  {
   "cell_type": "code",
   "execution_count": 5,
   "metadata": {
    "collapsed": false,
    "deletable": true,
    "editable": true,
    "jupyter": {
     "outputs_hidden": false
    }
   },
   "outputs": [],
   "source": [
    "import os\n",
    "for row, item in publications.iterrows():\n",
    "    \n",
    "    md_filename = str(item.pub_date) + \"-\" + item.url_slug + \".md\"\n",
    "    html_filename = str(item.pub_date) + \"-\" + item.url_slug\n",
    "    year = item.pub_date[:4]\n",
    "    \n",
    "    ## YAML variables\n",
    "    \n",
    "    md = \"---\\ntitle: \\\"\"   + item.title + '\"\\n'\n",
    "    \n",
    "    md += \"\"\"collection: publications\"\"\"\n",
    "    \n",
    "    md += \"\"\"\\npermalink: /publication/\"\"\" + html_filename\n",
    "    \n",
    "    if len(str(item.excerpt)) > 5:\n",
    "        md += \"\\nexcerpt: '\" + html_escape(item.excerpt) + \"'\"\n",
    "    \n",
    "    md += \"\\ndate: \" + str(item.pub_date) \n",
    "    \n",
    "    md += \"\\nvenue: '\" + html_escape(item.venue) + \"'\"\n",
    "    \n",
    "    if len(str(item.paper_url)) > 5:\n",
    "        md += \"\\npaperurl: '\" + item.paper_url + \"'\"\n",
    "    \n",
    "    md += \"\\ncitation: '\" + html_escape(item.citation) + \"'\"\n",
    "    \n",
    "    md += \"\\n---\"\n",
    "    \n",
    "    ## Markdown description for individual page\n",
    "        \n",
    "    if len(str(item.excerpt)) > 5:\n",
    "        md += \"\\n\" + html_escape(item.excerpt) + \"\\n\"\n",
    "    \n",
    "    if len(str(item.paper_url)) > 5:\n",
    "        md += \"\\n[Download paper here](\" + item.paper_url + \")\\n\" \n",
    "        \n",
    "    md += \"\\nRecommended citation: \" + item.citation\n",
    "    \n",
    "    md_filename = os.path.basename(md_filename)\n",
    "       \n",
    "    with open(\"../_publications/\" + md_filename, 'w') as f:\n",
    "        f.write(md)"
   ]
  },
  {
   "cell_type": "markdown",
   "metadata": {},
   "source": [
    "These files are in the publications directory, one directory below where we're working from."
   ]
  },
  {
   "cell_type": "code",
   "execution_count": 6,
   "metadata": {
    "collapsed": false,
    "deletable": true,
    "editable": true,
    "jupyter": {
     "outputs_hidden": false
    }
   },
   "outputs": [
    {
     "name": "stdout",
     "output_type": "stream",
     "text": [
      "2009-10-01-paper-title-number-1.md  2015-10-01-paper-title-number-3.md\r\n",
      "2010-10-01-paper-title-number-2.md\r\n"
     ]
    }
   ],
   "source": [
    "!ls ../_publications/"
   ]
  },
  {
   "cell_type": "code",
   "execution_count": 7,
   "metadata": {
    "collapsed": false,
    "deletable": true,
    "editable": true,
    "jupyter": {
     "outputs_hidden": false
    }
   },
   "outputs": [
    {
     "name": "stdout",
     "output_type": "stream",
     "text": [
      "---\r\n",
      "title: \"Paper Title Number 1\"\r\n",
      "collection: publications\r\n",
      "permalink: /publication/2009-10-01-paper-title-number-1\r\n",
      "excerpt: 'This paper is about the number 1. The number 2 is left for future work.'\r\n",
      "date: 2009-10-01\r\n",
      "venue: 'Journal 1'\r\n",
      "paperurl: 'http://academicpages.github.io/files/paper1.pdf'\r\n",
      "citation: 'Your Name, You. (2009). &quot;Paper Title Number 1.&quot; <i>Journal 1</i>. 1(1).'\r\n",
      "---\r\n",
      "This paper is about the number 1. The number 2 is left for future work.\r\n",
      "\r\n",
      "[Download paper here](http://academicpages.github.io/files/paper1.pdf)\r\n",
      "\r\n",
      "Recommended citation: Your Name, You. (2009). \"Paper Title Number 1.\" <i>Journal 1</i>. 1(1)."
     ]
    }
   ],
   "source": [
    "!cat ../_publications/2009-10-01-paper-title-number-1.md"
   ]
  },
  {
   "cell_type": "code",
   "execution_count": null,
   "metadata": {
    "collapsed": true,
    "deletable": true,
    "editable": true,
    "jupyter": {
     "outputs_hidden": true
    }
   },
   "outputs": [],
   "source": []
  }
 ],
 "metadata": {
  "kernelspec": {
   "display_name": "stdpy_new",
   "language": "python",
   "name": "stdpy_new"
  },
  "language_info": {
   "codemirror_mode": {
    "name": "ipython",
    "version": 3
   },
   "file_extension": ".py",
   "mimetype": "text/x-python",
   "name": "python",
   "nbconvert_exporter": "python",
   "pygments_lexer": "ipython3",
   "version": "3.11.5"
  }
 },
 "nbformat": 4,
 "nbformat_minor": 4
}
